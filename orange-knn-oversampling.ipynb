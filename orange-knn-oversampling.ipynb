{
 "cells": [
  {
   "cell_type": "code",
   "execution_count": 1,
   "metadata": {},
   "outputs": [],
   "source": [
    "import numpy as np\n",
    "import random\n",
    "from sklearn.neighbors import NearestNeighbors\n",
    "import math\n",
    "from random import randint\n",
    "import matplotlib.pyplot as plt\n",
    "from sklearn.decomposition import PCA\n",
    "\n",
    "\n",
    "class Smote(object):\n",
    "\t\"\"\"docstring for Smote\"\"\"\n",
    "\n",
    "\tdef __init__(self,distance):\n",
    "\t\tsuper(Smote, self).__init__()\n",
    "\t\tself.synthetic_arr=  []\n",
    "\t\tself.newindex = 0\n",
    "\t\tself.distance_measure = distance\n",
    "\n",
    "\n",
    "\n",
    "\tdef Populate(self,N,i,indices,min_samples,k):\n",
    "\t\t\"\"\"\n",
    "    \t\tPopulates the synthitic array\n",
    "    \t\tReturns:Synthetic Array to generate_syntheic_points \n",
    "    \t\"\"\"\n",
    "\n",
    "\t\twhile N!=0:\n",
    "\t\t\tarr = []\n",
    "\t\t\tnn = randint(0,k-2)\n",
    "\t\t\tfeatures = len(min_samples[0])\n",
    "\t\t\t\n",
    "\t\t\tfor attr in range(features):\n",
    "\t\t\t\tdiff = min_samples[indices[nn]][attr] - min_samples[i][attr]\n",
    "\t\t\t\tgap = random.uniform(0,1)\n",
    "\t\t\t\tarr.append(min_samples[i][attr] + gap*diff)\n",
    "\t\t\t\n",
    "\t\t\tself.synthetic_arr.append(arr)\n",
    "\t\t\tself.newindex = self.newindex + 1\n",
    "\t\t\tN = N-1\n",
    "\n",
    "\n",
    "\n",
    "\tdef k_neighbors(self,euclid_distance,k):\n",
    "\t\tnearest_idx_npy = np.empty([euclid_distance.shape[0],euclid_distance.shape[0]],dtype=np.int64)\n",
    "\t\t\n",
    "\t\tfor i in range(len(euclid_distance)):\n",
    "\t\t\tidx = np.argsort(euclid_distance[i])\n",
    "\t\t\tnearest_idx_npy[i] = idx\n",
    "\t\t\tidx = 0\n",
    "\n",
    "\t\treturn nearest_idx_npy[:,1:k]\n",
    "\n",
    "\n",
    "\n",
    "\n",
    "\tdef find_k(self,X,k):\n",
    "\n",
    "\t\t\"\"\"\n",
    "   \t\t\tFinds k nearest neighbors using euclidian distance\n",
    "   \t\t\tReturns: The k nearest neighbor   \n",
    "    \t\"\"\"\n",
    "\n",
    "\n",
    "\n",
    "\n",
    "\t\teuclid_distance = np.empty([X.shape[0],X.shape[0]],dtype = np.float32)\n",
    "\t\t\n",
    "\t\tfor i in range(len(X)):\n",
    "\t\t\tdist_arr = []\n",
    "\t\t\tfor j in range(len(X)):\n",
    "\t\t\t\tdist_arr.append(math.sqrt(sum((X[j]-X[i])**2)))\n",
    "\t\t\tdist_arr = np.asarray(dist_arr,dtype = np.float32)\n",
    "\t\t\teuclid_distance[i] = dist_arr\n",
    "\n",
    "\t\treturn self.k_neighbors(euclid_distance,k)\n",
    "\n",
    "\n",
    "\n",
    "\n",
    "\n",
    "\n",
    "\tdef generate_synthetic_points(self,min_samples,N,k):\n",
    "\n",
    "\t\t\"\"\"\n",
    "    \t\tReturns (N/100) * n_minority_samples synthetic minority samples.\n",
    "    \t\tParameters\n",
    "    \t\t----------\n",
    "    \t\tmin_samples : Numpy_array-like, shape = [n_minority_samples, n_features]\n",
    "    \t\t    Holds the minority samples\n",
    "    \t\tN : percetange of new synthetic samples: \n",
    "    \t\t    n_synthetic_samples = N/100 * n_minority_samples. Can be < 100.\n",
    "    \t\tk : int. Number of nearest neighbours. \n",
    "    \t\tReturns\n",
    "    \t\t-------\n",
    "    \t\tS : Synthetic samples. array, \n",
    "    \t\t    shape = [(N/100) * n_minority_samples, n_features]. \n",
    "    \t\"\"\"\n",
    "\t\t\n",
    "\n",
    "\t\tif N < 100:\n",
    "\t\t\traise ValueError(\"Value of N cannot be less than 100%\")\n",
    "\n",
    "\t\tif self.distance_measure not in ('euclidian','ball_tree'):\n",
    "\t\t\traise ValueError(\"Invalid Distance Measure.You can use only Euclidian or ball_tree\")\n",
    "\n",
    "\n",
    "\t\tif k>min_samples.shape[0]:\n",
    "\t\t\traise ValueError(\"Size of k cannot exceed the number of samples.\")\n",
    "\n",
    "\t\t\n",
    "\t\tN = int(N/100)\n",
    "\t\tT = min_samples.shape[0]\n",
    "\t\t\n",
    "\t\t\n",
    "\n",
    "\t\tif self.distance_measure == 'euclidian':\n",
    "\t\t\t\tindices = self.find_k(min_samples,k)\n",
    "\t\t\t\n",
    "\t\telif self.distance_measure=='ball_tree':\n",
    "\t\t\tnb = NearestNeighbors(n_neighbors = k,algorithm= 'ball_tree').fit(min_samples)\n",
    "\t\t\tdistance,indices = nb.kneighbors(min_samples)\n",
    "\t\t\tindices = indices[:,1:]\t\n",
    "\n",
    "\n",
    "\n",
    "\t\tfor i in range(indices.shape[0]):\n",
    "\t\t\tself.Populate(N,i,indices[i],min_samples,k)\n",
    "\t\t\n",
    "\t\treturn np.asarray(self.synthetic_arr)\n",
    "\n",
    "\t\t\n",
    "\n",
    "\n",
    "\tdef plot_synthetic_points(self,min_samples,N,k):\n",
    "\t\t\"\"\"\n",
    "\t\t\tPlot the over sampled synthtic samples in a scatterplot\n",
    "\t\t\"\"\"\n",
    "\n",
    "\n",
    "\t\tif N < 100:\n",
    "\t\t\traise ValueError(\"Value of N cannot be less than 100%\")\n",
    "\n",
    "\t\tif self.distance_measure not in ('euclidian','ball_tree'):\n",
    "\t\t\traise ValueError(\"Invalid Distance Measure.You can use only Euclidian or ball_tree\")\n",
    "\n",
    "\n",
    "\t\tif k>min_samples.shape[0]:\n",
    "\t\t\traise ValueError(\"Size of k cannot exceed the number of samples.\")\n",
    "\n",
    "\t\t\n",
    "\t\tsynthetic_points = self.generate_synthetic_points(min_samples,N,k)\n",
    "\t\t\n",
    "\t\tpca = PCA(n_components=2)\n",
    "\t\tpca.fit(synthetic_points)\n",
    "\t\tpca_synthetic_points = pca.transform(synthetic_points)\n",
    "\t\t\n",
    "\t\tplt.scatter(pca_synthetic_points[:,0],pca_synthetic_points[:,1])\n",
    "\t\tplt.show()"
   ]
  },
  {
   "cell_type": "code",
   "execution_count": 2,
   "metadata": {},
   "outputs": [],
   "source": [
    "from __future__ import print_function\n",
    "import os\n",
    "data_path = ['data']"
   ]
  },
  {
   "cell_type": "code",
   "execution_count": 3,
   "metadata": {},
   "outputs": [],
   "source": [
    "import pandas as pd\n",
    "\n",
    "# Import the data using the file path\n",
    "filepath = os.sep.join(data_path + ['Orange_Telecom_Churn_Data.csv'])\n",
    "data = pd.read_csv(filepath)"
   ]
  },
  {
   "cell_type": "code",
   "execution_count": 4,
   "metadata": {},
   "outputs": [],
   "source": [
    "# feature selection\n",
    "\n",
    "# drop uselesss features\n",
    "data.drop(['state', 'area_code', 'phone_number', 'account_length'], axis=1, inplace=True)"
   ]
  },
  {
   "cell_type": "code",
   "execution_count": 5,
   "metadata": {},
   "outputs": [
    {
     "data": {
      "text/plain": [
       "Index(['intl_plan', 'voice_mail_plan', 'number_vmail_messages',\n",
       "       'total_day_minutes', 'total_day_calls', 'total_day_charge',\n",
       "       'total_eve_minutes', 'total_eve_calls', 'total_eve_charge',\n",
       "       'total_night_minutes', 'total_night_calls', 'total_night_charge',\n",
       "       'total_intl_minutes', 'total_intl_calls', 'total_intl_charge',\n",
       "       'number_customer_service_calls', 'churned'],\n",
       "      dtype='object')"
      ]
     },
     "execution_count": 5,
     "metadata": {},
     "output_type": "execute_result"
    }
   ],
   "source": [
    "data.columns"
   ]
  },
  {
   "cell_type": "code",
   "execution_count": 6,
   "metadata": {},
   "outputs": [],
   "source": [
    "# preprocessing - label to number\n",
    "\n",
    "from sklearn.preprocessing import LabelBinarizer\n",
    "\n",
    "lb = LabelBinarizer()\n",
    "\n",
    "for col in ['intl_plan', 'voice_mail_plan', 'churned']:\n",
    "    data[col] = lb.fit_transform(data[col])"
   ]
  },
  {
   "cell_type": "code",
   "execution_count": 7,
   "metadata": {},
   "outputs": [],
   "source": [
    "# preprocessing - scale\n",
    "\n",
    "from sklearn.preprocessing import MinMaxScaler\n",
    "\n",
    "msc = MinMaxScaler()\n",
    "\n",
    "data = pd.DataFrame(msc.fit_transform(data),  # this is an np.array, not a dataframe.\n",
    "                    columns=data.columns)"
   ]
  },
  {
   "cell_type": "code",
   "execution_count": 8,
   "metadata": {},
   "outputs": [],
   "source": [
    "# seperate train/test data\n",
    "\n",
    "from sklearn.model_selection import train_test_split\n",
    "\n",
    "X = data.copy()\n",
    "y = X.pop('churned')\n",
    "\n",
    "X_train, X_test, y_train, y_test = train_test_split(X, y, test_size=0.25, random_state=25)\n",
    "\n",
    "train_data = pd.concat([X_train, y_train], axis=1)"
   ]
  },
  {
   "cell_type": "code",
   "execution_count": 9,
   "metadata": {},
   "outputs": [],
   "source": [
    "# prepare learning data\n",
    "\n",
    "sampling_ratio = 100 * len(train_data[train_data.churned != 1]) / len(train_data[train_data.churned == 1])\n",
    "\n",
    "churned_data_array = train_data[train_data.churned == 1].to_numpy()\n",
    "\n",
    "smote_test = Smote('euclidian')\n",
    "over_sample = smote_test.generate_synthetic_points(churned_data_array, sampling_ratio / 3, 3)\n",
    "over_sample_churned_data = pd.DataFrame(data=over_sample, columns=train_data.columns)\n",
    "\n",
    "sampled_data = train_data[train_data.churned != 1]\n",
    "sampled_data = pd.concat([sampled_data, over_sample_churned_data])\n",
    "\n",
    "X_train = sampled_data.copy()\n",
    "y_train = X_train.pop('churned')"
   ]
  },
  {
   "cell_type": "code",
   "execution_count": 10,
   "metadata": {},
   "outputs": [],
   "source": [
    "# prepare testing data\n",
    "\n",
    "# X_test = data.copy()\n",
    "# y_test = X_test.pop('churned')"
   ]
  },
  {
   "cell_type": "code",
   "execution_count": 11,
   "metadata": {},
   "outputs": [],
   "source": [
    "# learning\n",
    "\n",
    "from sklearn.neighbors import KNeighborsClassifier\n",
    "\n",
    "knn = KNeighborsClassifier(n_neighbors=3)\n",
    "\n",
    "knn = knn.fit(X_train, y_train)"
   ]
  },
  {
   "cell_type": "code",
   "execution_count": 12,
   "metadata": {},
   "outputs": [],
   "source": [
    "# predict\n",
    "\n",
    "y_pred = knn.predict(X_test)"
   ]
  },
  {
   "cell_type": "code",
   "execution_count": 13,
   "metadata": {},
   "outputs": [
    {
     "data": {
      "text/html": [
       "<div>\n",
       "<style scoped>\n",
       "    .dataframe tbody tr th:only-of-type {\n",
       "        vertical-align: middle;\n",
       "    }\n",
       "\n",
       "    .dataframe tbody tr th {\n",
       "        vertical-align: top;\n",
       "    }\n",
       "\n",
       "    .dataframe thead th {\n",
       "        text-align: right;\n",
       "    }\n",
       "</style>\n",
       "<table border=\"1\" class=\"dataframe\">\n",
       "  <thead>\n",
       "    <tr style=\"text-align: right;\">\n",
       "      <th></th>\n",
       "      <th>scores</th>\n",
       "    </tr>\n",
       "  </thead>\n",
       "  <tbody>\n",
       "    <tr>\n",
       "      <th>precision</th>\n",
       "      <td>0.889897</td>\n",
       "    </tr>\n",
       "    <tr>\n",
       "      <th>recall</th>\n",
       "      <td>0.892800</td>\n",
       "    </tr>\n",
       "    <tr>\n",
       "      <th>fscore</th>\n",
       "      <td>0.891217</td>\n",
       "    </tr>\n",
       "    <tr>\n",
       "      <th>accuracy</th>\n",
       "      <td>0.892800</td>\n",
       "    </tr>\n",
       "  </tbody>\n",
       "</table>\n",
       "</div>"
      ],
      "text/plain": [
       "             scores\n",
       "precision  0.889897\n",
       "recall     0.892800\n",
       "fscore     0.891217\n",
       "accuracy   0.892800"
      ]
     },
     "execution_count": 13,
     "metadata": {},
     "output_type": "execute_result"
    }
   ],
   "source": [
    "# simple metrics\n",
    "\n",
    "import sklearn.metrics as metrics\n",
    "\n",
    "precision, recall, fscore, _ = metrics.precision_recall_fscore_support(y_test, y_pred, average='weighted')\n",
    "accuracy = metrics.accuracy_score(y_test, y_pred)\n",
    "\n",
    "result_metrics = list()\n",
    "result_metrics.append(pd.Series({'precision':precision, 'recall':recall, \n",
    "                        'fscore':fscore, 'accuracy':accuracy}, \n",
    "                        name='scores'))\n",
    "\n",
    "result_metrics = pd.concat(result_metrics, axis=1)\n",
    "\n",
    "result_metrics"
   ]
  },
  {
   "cell_type": "code",
   "execution_count": 14,
   "metadata": {},
   "outputs": [
    {
     "name": "stdout",
     "output_type": "stream",
     "text": [
      "              precision    recall  f1-score   support\n",
      "\n",
      "       false       0.93      0.94      0.94      1073\n",
      "        true       0.63      0.59      0.61       177\n",
      "\n",
      "    accuracy                           0.89      1250\n",
      "   macro avg       0.78      0.77      0.77      1250\n",
      "weighted avg       0.89      0.89      0.89      1250\n",
      "\n"
     ]
    }
   ],
   "source": [
    "# detail metrics\n",
    "\n",
    "print(metrics.classification_report(y_test, y_pred, target_names=['false', 'true']))"
   ]
  },
  {
   "cell_type": "code",
   "execution_count": 15,
   "metadata": {},
   "outputs": [
    {
     "name": "stdout",
     "output_type": "stream",
     "text": [
      "[[1012   61]\n",
      " [  73  104]]\n"
     ]
    }
   ],
   "source": [
    "# confusion matrix\n",
    "\n",
    "print(metrics.confusion_matrix(y_test, y_pred))"
   ]
  }
 ],
 "metadata": {
  "kernelspec": {
   "display_name": "Python 3",
   "language": "python",
   "name": "python3"
  },
  "language_info": {
   "codemirror_mode": {
    "name": "ipython",
    "version": 3
   },
   "file_extension": ".py",
   "mimetype": "text/x-python",
   "name": "python",
   "nbconvert_exporter": "python",
   "pygments_lexer": "ipython3",
   "version": "3.7.3"
  }
 },
 "nbformat": 4,
 "nbformat_minor": 2
}
