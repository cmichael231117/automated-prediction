{
 "cells": [
  {
   "cell_type": "code",
   "execution_count": 5355,
   "metadata": {},
   "outputs": [],
   "source": [
    "import numpy as np\n",
    "import random\n",
    "from sklearn.neighbors import NearestNeighbors\n",
    "import math\n",
    "from random import randint\n",
    "\n",
    "class Smote(object):\n",
    "\tdef __init__(self):\n",
    "\t\tsuper(Smote, self).__init__()\n",
    "\t\tself.synthetic_arr = []\n",
    "\t\tself.newindex = 0\n",
    "\n",
    "\tdef Populate(self, N, i, indices, min_samples, k):\n",
    "\t\twhile N!=0:\n",
    "\t\t\tarr = []\n",
    "\t\t\tnn = randint(0,k-2)\n",
    "\t\t\tfeatures = len(min_samples[0])\n",
    "\t\t\t\n",
    "\t\t\tfor attr in range(features):\n",
    "\t\t\t\tdiff = min_samples[indices[nn]][attr] - min_samples[i][attr]\n",
    "\t\t\t\tgap = random.uniform(0,1)\n",
    "\t\t\t\tarr.append(min_samples[i][attr] + gap*diff)\n",
    "\t\t\t\n",
    "\t\t\tself.synthetic_arr.append(arr)\n",
    "\t\t\tself.newindex = self.newindex + 1\n",
    "\t\t\tN = N-1\n",
    "\n",
    "\tdef k_neighbors(self, euclid_distance, k):\n",
    "\t\tnearest_idx_npy = np.empty([euclid_distance.shape[0], euclid_distance.shape[0]],dtype=np.int64)\n",
    "\n",
    "\t\tfor i in range(len(euclid_distance)):\n",
    "\t\t\tidx = np.argsort(euclid_distance[i])\n",
    "\t\t\tnearest_idx_npy[i] = idx\n",
    "\t\t\tidx = 0\n",
    "\n",
    "\t\treturn nearest_idx_npy[:,1:k]\n",
    "\n",
    "\tdef find_k(self, X, k):\n",
    "\t\teuclid_distance = np.empty([X.shape[0], X.shape[0]],dtype = np.float32)\n",
    "\n",
    "\t\tfor i in range(len(X)):\n",
    "\t\t\tdist_arr = []\n",
    "\t\t\tfor j in range(len(X)):\n",
    "\t\t\t\tdist_arr.append(math.sqrt(sum((X[j]-X[i])**2)))\n",
    "\t\t\tdist_arr = np.asarray(dist_arr, dtype = np.float32)\n",
    "\t\t\teuclid_distance[i] = dist_arr\n",
    "\n",
    "\t\treturn self.k_neighbors(euclid_distance, k)\n",
    "\n",
    "\tdef generate_synthetic_points(self, min_samples, N, k):\n",
    "\t\tN = int(N/100)\n",
    "\t\tT = min_samples.shape[0]\n",
    "\n",
    "\t\tindices = self.find_k(min_samples, k)\n",
    "\n",
    "\t\tfor i in range(indices.shape[0]):\n",
    "\t\t\tself.Populate(N, i, indices[i], min_samples, k)\n",
    "\n",
    "\t\treturn np.asarray(self.synthetic_arr)"
   ]
  },
  {
   "cell_type": "code",
   "execution_count": 5356,
   "metadata": {},
   "outputs": [],
   "source": [
    "from __future__ import print_function\n",
    "import os\n",
    "data_path = ['data']"
   ]
  },
  {
   "cell_type": "code",
   "execution_count": 5357,
   "metadata": {},
   "outputs": [],
   "source": [
    "import pandas as pd\n",
    "\n",
    "# Import the data using the file path\n",
    "train_filepath = os.sep.join(data_path + ['Orange_Telecom_Churn_Data_train.csv'])\n",
    "test_filepath = os.sep.join(data_path + ['Orange_Telecom_Churn_Data_test.csv'])\n",
    "\n",
    "# csv to pandas DataFrame\n",
    "train_data = pd.read_csv(train_filepath)\n",
    "test_data = pd.read_csv(test_filepath)"
   ]
  },
  {
   "cell_type": "code",
   "execution_count": 5358,
   "metadata": {},
   "outputs": [],
   "source": [
    "# only use 5 features\n",
    "\n",
    "train_data.drop(['state', 'area_code', 'account_length', 'total_day_calls', 'phone_number', 'total_day_minutes', 'total_eve_minutes', 'total_eve_calls', 'total_night_minutes', 'total_night_calls', 'total_intl_minutes', 'total_intl_calls', 'total_intl_charge', 'number_vmail_messages', 'total_night_charge'], axis=1, inplace=True)\n",
    "\n",
    "test_data.drop(['state', 'area_code', 'account_length', 'total_day_calls', 'phone_number', 'total_day_minutes', 'total_eve_minutes', 'total_eve_calls', 'total_night_minutes', 'total_night_calls', 'total_intl_minutes', 'total_intl_calls', 'total_intl_charge', 'number_vmail_messages', 'total_night_charge'], axis=1, inplace=True)"
   ]
  },
  {
   "cell_type": "code",
   "execution_count": 5359,
   "metadata": {},
   "outputs": [
    {
     "data": {
      "text/plain": "Index(['intl_plan', 'voice_mail_plan', 'total_day_charge', 'total_eve_charge',\n       'number_customer_service_calls', 'churned'],\n      dtype='object')"
     },
     "execution_count": 5359,
     "metadata": {},
     "output_type": "execute_result"
    }
   ],
   "source": [
    "train_data.columns"
   ]
  },
  {
   "cell_type": "code",
   "execution_count": 5360,
   "metadata": {},
   "outputs": [],
   "source": [
    "# preprocessing - label feature to number\n",
    "\n",
    "from sklearn.preprocessing import LabelBinarizer\n",
    "\n",
    "lb = LabelBinarizer()\n",
    "\n",
    "for col in ['intl_plan', 'voice_mail_plan', 'churned']:\n",
    "    train_data[col] = lb.fit_transform(train_data[col])\n",
    "\n",
    "for col in ['intl_plan', 'voice_mail_plan', 'churned']:\n",
    "    test_data[col] = lb.fit_transform(test_data[col])"
   ]
  },
  {
   "cell_type": "code",
   "execution_count": 5361,
   "metadata": {},
   "outputs": [],
   "source": [
    "# preprocessing - scale\n",
    "\n",
    "from sklearn.preprocessing import RobustScaler\n",
    "\n",
    "scaler = RobustScaler()\n",
    "\n",
    "# train_original_churned = train_data.copy()['churned']\n",
    "# test_original_churned = test_data.copy()['churned']\n",
    "\n",
    "train_data = pd.DataFrame(scaler.fit_transform(train_data), columns=train_data.columns)\n",
    "\n",
    "test_data = pd.DataFrame(scaler.fit_transform(test_data), columns=test_data.columns)\n",
    "\n",
    "# train_data['churned'] = train_original_churned\n",
    "# test_data['churned'] = test_original_churned"
   ]
  },
  {
   "cell_type": "code",
   "execution_count": 5362,
   "metadata": {},
   "outputs": [],
   "source": [
    "# seperate train/test data\n",
    "\n",
    "X_train = train_data.copy()\n",
    "y_train = X_train.pop('churned')\n",
    "\n",
    "X_test = test_data.copy()\n",
    "y_test = X_test.pop('churned')"
   ]
  },
  {
   "cell_type": "code",
   "execution_count": 5363,
   "metadata": {},
   "outputs": [],
   "source": [
    "# prepare learning data\n",
    "\n",
    "sampling_ratio = 100 * len(train_data[train_data.churned != 1]) / len(train_data[train_data.churned == 1])\n",
    "\n",
    "churned_data_array = train_data[train_data.churned == 1].to_numpy()\n",
    "\n",
    "smote = Smote()\n",
    "over_sample = smote.generate_synthetic_points(churned_data_array, sampling_ratio/2.5, 15)\n",
    "over_sample_churned_data = pd.DataFrame(data=over_sample, columns=train_data.columns)\n",
    "\n",
    "sampled_data = train_data[train_data.churned != 1]\n",
    "sampled_data = pd.concat([sampled_data, over_sample_churned_data])\n",
    "\n",
    "X_train = sampled_data.copy()\n",
    "y_train = X_train.pop('churned')"
   ]
  },
  {
   "cell_type": "code",
   "execution_count": 5364,
   "metadata": {},
   "outputs": [],
   "source": [
    "# learning\n",
    "\n",
    "from sklearn.neighbors import KNeighborsClassifier\n",
    "\n",
    "knn = KNeighborsClassifier(n_neighbors=10)\n",
    "\n",
    "knn = knn.fit(X_train, y_train)"
   ]
  },
  {
   "cell_type": "code",
   "execution_count": 5365,
   "metadata": {},
   "outputs": [],
   "source": [
    "# predict\n",
    "\n",
    "y_pred = knn.predict(X_test)"
   ]
  },
  {
   "cell_type": "code",
   "execution_count": 5366,
   "metadata": {},
   "outputs": [
    {
     "data": {
      "text/html": "<div>\n<style scoped>\n    .dataframe tbody tr th:only-of-type {\n        vertical-align: middle;\n    }\n\n    .dataframe tbody tr th {\n        vertical-align: top;\n    }\n\n    .dataframe thead th {\n        text-align: right;\n    }\n</style>\n<table border=\"1\" class=\"dataframe\">\n  <thead>\n    <tr style=\"text-align: right;\">\n      <th></th>\n      <th>scores</th>\n    </tr>\n  </thead>\n  <tbody>\n    <tr>\n      <th>precision</th>\n      <td>0.911659</td>\n    </tr>\n    <tr>\n      <th>recall</th>\n      <td>0.910000</td>\n    </tr>\n    <tr>\n      <th>fscore</th>\n      <td>0.910778</td>\n    </tr>\n    <tr>\n      <th>accuracy</th>\n      <td>0.910000</td>\n    </tr>\n  </tbody>\n</table>\n</div>",
      "text/plain": "             scores\nprecision  0.911659\nrecall     0.910000\nfscore     0.910778\naccuracy   0.910000"
     },
     "execution_count": 5366,
     "metadata": {},
     "output_type": "execute_result"
    }
   ],
   "source": [
    "# simple metrics\n",
    "\n",
    "import sklearn.metrics as metrics\n",
    "\n",
    "precision, recall, fscore, _ = metrics.precision_recall_fscore_support(y_test, y_pred, average='weighted')\n",
    "accuracy = metrics.accuracy_score(y_test, y_pred)\n",
    "\n",
    "result_metrics = list()\n",
    "result_metrics.append(pd.Series({'precision':precision, 'recall':recall, \n",
    "                        'fscore':fscore, 'accuracy':accuracy}, \n",
    "                        name='scores'))\n",
    "\n",
    "result_metrics = pd.concat(result_metrics, axis=1)\n",
    "\n",
    "result_metrics"
   ]
  },
  {
   "cell_type": "code",
   "execution_count": 5367,
   "metadata": {},
   "outputs": [
    {
     "name": "stdout",
     "output_type": "stream",
     "text": "precision    recall  f1-score   support\n\n       false       0.95      0.94      0.95      1288\n        true       0.67      0.70      0.69       212\n\n    accuracy                           0.91      1500\n   macro avg       0.81      0.82      0.82      1500\nweighted avg       0.91      0.91      0.91      1500\n\n"
    }
   ],
   "source": [
    "# detail metrics\n",
    "\n",
    "print(metrics.classification_report(y_test, y_pred, target_names=['false', 'true']))"
   ]
  },
  {
   "cell_type": "code",
   "execution_count": 5368,
   "metadata": {},
   "outputs": [
    {
     "name": "stdout",
     "output_type": "stream",
     "text": "[[1216   72]\n [  63  149]]\n"
    }
   ],
   "source": [
    "# confusion matrix\n",
    "\n",
    "print(metrics.confusion_matrix(y_test, y_pred))"
   ]
  }
 ],
 "metadata": {
  "kernelspec": {
   "display_name": "Python 3",
   "language": "python",
   "name": "python3"
  },
  "language_info": {
   "codemirror_mode": {
    "name": "ipython",
    "version": 3
   },
   "file_extension": ".py",
   "mimetype": "text/x-python",
   "name": "python",
   "nbconvert_exporter": "python",
   "pygments_lexer": "ipython3",
   "version": "3.7.3"
  }
 },
 "nbformat": 4,
 "nbformat_minor": 2
}