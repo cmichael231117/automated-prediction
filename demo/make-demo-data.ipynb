{
 "nbformat": 4,
 "nbformat_minor": 2,
 "metadata": {
  "language_info": {
   "name": "python",
   "codemirror_mode": {
    "name": "ipython",
    "version": 3
   },
   "version": "3.7.3"
  },
  "orig_nbformat": 2,
  "file_extension": ".py",
  "mimetype": "text/x-python",
  "name": "python",
  "npconvert_exporter": "python",
  "pygments_lexer": "ipython3",
  "version": 3
 },
 "cells": [
  {
   "source": [
    "from __future__ import print_function\n",
    "import os\n",
    "data_path = ['demo/data']"
   ],
   "cell_type": "code",
   "outputs": [],
   "metadata": {},
   "execution_count": 45
  },
  {
   "source": [
    "import pandas as pd\n",
    "\n",
    "# Import the data using the file path\n",
    "filepath = os.sep.join(data_path + ['Orange_Telecom_Churn_Data.csv'])\n",
    "data = pd.read_csv(filepath)"
   ],
   "cell_type": "code",
   "outputs": [],
   "metadata": {},
   "execution_count": 46
  },
  {
   "source": [
    "# split train/test data\n",
    "\n",
    "from sklearn.model_selection import train_test_split\n",
    "\n",
    "X = data.copy()\n",
    "y = X.pop('churned')\n",
    "\n",
    "X_train, X_test, y_train, y_test = train_test_split(X, y, test_size=0.2, stratify=y)\n",
    "\n",
    "train_data = pd.concat([X_train, y_train], axis=1)\n",
    "test_data = pd.concat([X_test, y_test], axis=1)"
   ],
   "cell_type": "code",
   "outputs": [],
   "metadata": {},
   "execution_count": 47
  },
  {
   "source": [
    "train_data.to_csv(os.sep.join(data_path + ['Orange_Telecom_Churn_Data_train.csv']), mode=\"w\", index=False)\n",
    "test_data.to_csv(os.sep.join(data_path + ['Orange_Telecom_Churn_Data_test.csv']), mode=\"w\", index=False)"
   ],
   "cell_type": "code",
   "outputs": [],
   "metadata": {},
   "execution_count": 48
  }
 ]
}