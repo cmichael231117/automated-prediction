{
 "cells": [
  {
   "cell_type": "code",
   "execution_count": 67,
   "metadata": {},
   "outputs": [],
   "source": [
    "import numpy as np\n",
    "import random\n",
    "from sklearn.neighbors import NearestNeighbors\n",
    "import math\n",
    "from random import randint\n",
    "\n",
    "class Smote(object):\n",
    "\tdef __init__(self):\n",
    "\t\tsuper(Smote, self).__init__()\n",
    "\t\tself.synthetic_arr = []\n",
    "\t\tself.newindex = 0\n",
    "\n",
    "\tdef Populate(self, N, i, indices, min_samples, k):\n",
    "\t\twhile N!=0:\n",
    "\t\t\tarr = []\n",
    "\t\t\tnn = randint(0,k-2)\n",
    "\t\t\tfeatures = len(min_samples[0])\n",
    "\t\t\t\n",
    "\t\t\tfor attr in range(features):\n",
    "\t\t\t\tdiff = min_samples[indices[nn]][attr] - min_samples[i][attr]\n",
    "\t\t\t\tgap = random.uniform(0,1)\n",
    "\t\t\t\tarr.append(min_samples[i][attr] + gap*diff)\n",
    "\t\t\t\n",
    "\t\t\tself.synthetic_arr.append(arr)\n",
    "\t\t\tself.newindex = self.newindex + 1\n",
    "\t\t\tN = N-1\n",
    "\n",
    "\tdef k_neighbors(self, euclid_distance, k):\n",
    "\t\tnearest_idx_npy = np.empty([euclid_distance.shape[0], euclid_distance.shape[0]],dtype=np.int64)\n",
    "\n",
    "\t\tfor i in range(len(euclid_distance)):\n",
    "\t\t\tidx = np.argsort(euclid_distance[i])\n",
    "\t\t\tnearest_idx_npy[i] = idx\n",
    "\t\t\tidx = 0\n",
    "\n",
    "\t\treturn nearest_idx_npy[:,1:k]\n",
    "\n",
    "\tdef find_k(self, X, k):\n",
    "\t\teuclid_distance = np.empty([X.shape[0], X.shape[0]],dtype = np.float32)\n",
    "\n",
    "\t\tfor i in range(len(X)):\n",
    "\t\t\tdist_arr = []\n",
    "\t\t\tfor j in range(len(X)):\n",
    "\t\t\t\tdist_arr.append(math.sqrt(sum((X[j]-X[i])**2)))\n",
    "\t\t\tdist_arr = np.asarray(dist_arr, dtype = np.float32)\n",
    "\t\t\teuclid_distance[i] = dist_arr\n",
    "\n",
    "\t\treturn self.k_neighbors(euclid_distance, k)\n",
    "\n",
    "\tdef generate_synthetic_points(self, min_samples, N, k):\n",
    "\t\tN = int(N/100)\n",
    "\t\tT = min_samples.shape[0]\n",
    "\n",
    "\t\tindices = self.find_k(min_samples, k)\n",
    "\n",
    "\t\tfor i in range(indices.shape[0]):\n",
    "\t\t\tself.Populate(N, i, indices[i], min_samples, k)\n",
    "\n",
    "\t\treturn np.asarray(self.synthetic_arr)"
   ]
  },
  {
   "cell_type": "code",
   "execution_count": 68,
   "metadata": {},
   "outputs": [],
   "source": [
    "from __future__ import print_function\n",
    "import os\n",
    "data_path = ['data']"
   ]
  },
  {
   "cell_type": "code",
   "execution_count": 69,
   "metadata": {},
   "outputs": [],
   "source": [
    "import pandas as pd\n",
    "\n",
    "# Import the data using the file path\n",
    "train_filepath = os.sep.join(data_path + ['Orange_Telecom_Churn_Data_train.csv'])\n",
    "test_filepath = os.sep.join(data_path + ['Orange_Telecom_Churn_Data_test.csv'])\n",
    "\n",
    "# csv to pandas DataFrame\n",
    "train_data = pd.read_csv(train_filepath)\n",
    "test_data = pd.read_csv(test_filepath)"
   ]
  },
  {
   "cell_type": "code",
   "execution_count": 70,
   "metadata": {},
   "outputs": [],
   "source": [
    "# only use 5 features\n",
    "\n",
    "train_data.drop(['state', 'area_code', 'account_length', 'total_day_calls', 'phone_number', 'total_day_minutes', 'total_eve_minutes', 'total_eve_calls', 'total_night_minutes', 'total_night_calls', 'total_intl_minutes', 'total_intl_calls', 'total_intl_charge', 'number_vmail_messages', 'total_night_charge'], axis=1, inplace=True)\n",
    "\n",
    "test_data.drop(['state', 'area_code', 'account_length', 'total_day_calls', 'phone_number', 'total_day_minutes', 'total_eve_minutes', 'total_eve_calls', 'total_night_minutes', 'total_night_calls', 'total_intl_minutes', 'total_intl_calls', 'total_intl_charge', 'number_vmail_messages', 'total_night_charge'], axis=1, inplace=True)"
   ]
  },
  {
   "cell_type": "code",
   "execution_count": 71,
   "metadata": {},
   "outputs": [
    {
     "data": {
      "text/plain": "Index(['intl_plan', 'voice_mail_plan', 'total_day_charge', 'total_eve_charge',\n       'number_customer_service_calls', 'churned'],\n      dtype='object')"
     },
     "execution_count": 71,
     "metadata": {},
     "output_type": "execute_result"
    }
   ],
   "source": [
    "train_data.columns"
   ]
  },
  {
   "cell_type": "code",
   "execution_count": 72,
   "metadata": {},
   "outputs": [],
   "source": [
    "# preprocessing - label feature to number\n",
    "\n",
    "from sklearn.preprocessing import LabelBinarizer\n",
    "\n",
    "lb = LabelBinarizer()\n",
    "\n",
    "for col in ['intl_plan', 'voice_mail_plan', 'churned']:\n",
    "    train_data[col] = lb.fit_transform(train_data[col])\n",
    "\n",
    "for col in ['intl_plan', 'voice_mail_plan']:\n",
    "    test_data[col] = lb.fit_transform(test_data[col])"
   ]
  },
  {
   "cell_type": "code",
   "execution_count": 73,
   "metadata": {},
   "outputs": [],
   "source": [
    "# preprocessing - scale\n",
    "\n",
    "from sklearn.preprocessing import RobustScaler\n",
    "\n",
    "scaler = RobustScaler()\n",
    "\n",
    "# train_original_churned = train_data.copy()['churned']\n",
    "# test_original_churned = test_data.copy()['churned']\n",
    "\n",
    "train_data = pd.DataFrame(scaler.fit_transform(train_data), columns=train_data.columns)\n",
    "\n",
    "test_data = pd.DataFrame(scaler.fit_transform(test_data), columns=test_data.columns)\n",
    "\n",
    "# train_data['churned'] = train_original_churned\n",
    "# test_data['churned'] = test_original_churned"
   ]
  },
  {
   "cell_type": "code",
   "execution_count": 74,
   "metadata": {},
   "outputs": [],
   "source": [
    "# seperate train/test data\n",
    "\n",
    "X_train = train_data.copy()\n",
    "y_train = X_train.pop('churned')\n",
    "\n",
    "X_test = test_data.copy()\n",
    "# y_test = X_test.pop('churned')"
   ]
  },
  {
   "cell_type": "code",
   "execution_count": 75,
   "metadata": {},
   "outputs": [],
   "source": [
    "# prepare learning data\n",
    "\n",
    "sampling_ratio = 100 * len(train_data[train_data.churned != 1]) / len(train_data[train_data.churned == 1])\n",
    "\n",
    "churned_data_array = train_data[train_data.churned == 1].to_numpy()\n",
    "\n",
    "smote = Smote()\n",
    "over_sample = smote.generate_synthetic_points(churned_data_array, sampling_ratio/2.5, 15)\n",
    "over_sample_churned_data = pd.DataFrame(data=over_sample, columns=train_data.columns)\n",
    "\n",
    "sampled_data = train_data[train_data.churned != 1]\n",
    "sampled_data = pd.concat([sampled_data, over_sample_churned_data])\n",
    "\n",
    "X_train = sampled_data.copy()\n",
    "y_train = X_train.pop('churned')"
   ]
  },
  {
   "cell_type": "code",
   "execution_count": 76,
   "metadata": {},
   "outputs": [],
   "source": [
    "# learning\n",
    "\n",
    "from sklearn.neighbors import KNeighborsClassifier\n",
    "\n",
    "knn = KNeighborsClassifier(n_neighbors=10)\n",
    "\n",
    "knn = knn.fit(X_train, y_train)"
   ]
  },
  {
   "cell_type": "code",
   "execution_count": 77,
   "metadata": {},
   "outputs": [],
   "source": [
    "# predict\n",
    "\n",
    "y_pred = knn.predict(X_test)"
   ]
  },
  {
   "cell_type": "code",
   "execution_count": 78,
   "metadata": {},
   "outputs": [],
   "source": [
    "y_pred_text = []\n",
    "\n",
    "for y in y_pred: \n",
    "    if (y == 1.0):\n",
    "        y_pred_text.append('TRUE')\n",
    "    else:\n",
    "        y_pred_text.append('FALSE')"
   ]
  },
  {
   "cell_type": "code",
   "execution_count": 79,
   "metadata": {},
   "outputs": [],
   "source": [
    "test_result = pd.DataFrame(data=y_pred_text, columns=['churned'])\n",
    "\n",
    "test_result.to_csv(\"orange-test-result.csv\", mode='w')"
   ]
  }
 ],
 "metadata": {
  "kernelspec": {
   "display_name": "Python 3",
   "language": "python",
   "name": "python3"
  },
  "language_info": {
   "codemirror_mode": {
    "name": "ipython",
    "version": 3
   },
   "file_extension": ".py",
   "mimetype": "text/x-python",
   "name": "python",
   "nbconvert_exporter": "python",
   "pygments_lexer": "ipython3",
   "version": "3.7.3"
  }
 },
 "nbformat": 4,
 "nbformat_minor": 2
}