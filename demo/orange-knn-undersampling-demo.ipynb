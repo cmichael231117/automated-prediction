{
 "cells": [
  {
   "cell_type": "code",
   "execution_count": 1,
   "metadata": {},
   "outputs": [],
   "source": [
    "from __future__ import print_function\n",
    "import os\n",
    "data_path = ['data']"
   ]
  },
  {
   "cell_type": "code",
   "execution_count": 2,
   "metadata": {},
   "outputs": [],
   "source": [
    "import pandas as pd\n",
    "\n",
    "# Import the data using the file path\n",
    "filepath1 = os.sep.join(data_path + ['orange-demo-train.csv'])\n",
    "train_data = pd.read_csv(filepath1)\n",
    "\n",
    "# Get test data\n",
    "filepath2 = os.sep.join(data_path + ['orange-demo-test.csv'])\n",
    "test_data = pd.read_csv(filepath2)"
   ]
  },
  {
   "cell_type": "code",
   "execution_count": 3,
   "metadata": {},
   "outputs": [],
   "source": [
    "# drop uselesss features\n",
    "train_data.drop(['state', 'area_code', 'phone_number', 'account_length', 'total_day_calls'\n",
    "           ], axis=1, inplace=True)\n",
    "\n",
    "test_data.drop(['state', 'area_code', 'phone_number', 'account_length', 'total_day_calls', 'churned'\n",
    "           ], axis=1, inplace=True)"
   ]
  },
  {
   "cell_type": "code",
   "execution_count": 4,
   "metadata": {},
   "outputs": [],
   "source": [
    "# preprocessing - label to number\n",
    "\n",
    "from sklearn.preprocessing import LabelBinarizer\n",
    "\n",
    "lb = LabelBinarizer()\n",
    "\n",
    "for col in ['intl_plan', 'voice_mail_plan', 'churned']:\n",
    "    train_data[col] = lb.fit_transform(train_data[col])\n",
    "    \n",
    "for col in ['intl_plan', 'voice_mail_plan']:\n",
    "    test_data[col] = lb.fit_transform(test_data[col])"
   ]
  },
  {
   "cell_type": "code",
   "execution_count": 5,
   "metadata": {},
   "outputs": [],
   "source": [
    "# preprocessing - scale\n",
    "\n",
    "from sklearn.preprocessing import MinMaxScaler\n",
    "\n",
    "msc = MinMaxScaler()\n",
    "\n",
    "train_data = pd.DataFrame(msc.fit_transform(train_data),  # this is an np.array, not a dataframe.\n",
    "                    columns=train_data.columns)\n",
    "\n",
    "test_data = pd.DataFrame(msc.fit_transform(test_data),  # this is an np.array, not a dataframe.\n",
    "                    columns=test_data.columns)"
   ]
  },
  {
   "cell_type": "code",
   "execution_count": 6,
   "metadata": {},
   "outputs": [],
   "source": [
    "# seperate train/test data\n",
    "\n",
    "# from sklearn.model_selection import train_test_split\n",
    "\n",
    "# X = data.copy()\n",
    "# y = X.pop('churned')\n",
    "\n",
    "# X_train, X_test, y_train, y_test = train_test_split(X, y, test_size=0.2, stratify=y)\n",
    "\n",
    "# train_data = pd.concat([X_train, y_train], axis=1)\n",
    "# test_data = pd.concat([X_test, y_test], axis=1)\n",
    "\n",
    "# train all data\n",
    "# train_data = data\n",
    "\n",
    "# test all data\n",
    "# X_test = X\n",
    "# y_test = y\n",
    "\n",
    "X_train = train_data.copy()\n",
    "y_train = X_train.pop('churned')\n",
    "\n",
    "X_test = test_data.copy()"
   ]
  },
  {
   "cell_type": "code",
   "execution_count": 7,
   "metadata": {},
   "outputs": [],
   "source": [
    "# feature selection\n",
    "\n",
    "# from io import StringIO\n",
    "# from sklearn.tree import DecisionTreeClassifier\n",
    "# from sklearn import tree\n",
    "# import pydotplus\n",
    "# from IPython.display import Image\n",
    "\n",
    "# dt = DecisionTreeClassifier(random_state=42)\n",
    "# dt = dt.fit(X, y)\n",
    "# dt.tree_.node_count, dt.tree_.max_depth\n",
    "\n",
    "\n",
    "# dot_data = StringIO()\n",
    "\n",
    "# tree.export_graphviz(dt, out_file=dot_data, feature_names=X.columns)\n",
    "# graph = pydotplus.graph_from_dot_data(dot_data.getvalue())\n",
    "\n",
    "# # View the tree image\n",
    "# filename = 'wine_tree.png'\n",
    "# graph.write_png(filename)\n",
    "# img = Image(filename=filename)\n",
    "# display(img)"
   ]
  },
  {
   "cell_type": "code",
   "execution_count": 8,
   "metadata": {},
   "outputs": [],
   "source": [
    "import numpy as np\n",
    "import math as math\n",
    "\n",
    "non_churned_indices = train_data[train_data.churned == 0].index\n",
    "non_churend_indices = np.random.permutation(non_churned_indices)\n",
    "churned_indices = train_data[train_data.churned == 1].index\n",
    "\n",
    "scale_diff = math.floor(len(non_churned_indices) / len(churned_indices))\n",
    "\n",
    "non_churned_indices_set = np.array_split(non_churned_indices, scale_diff)\n",
    "\n",
    "train_data_samples = []\n",
    "for i in range(scale_diff):\n",
    "    train_data_samples.append(\n",
    "        pd.concat([train_data.loc[churned_indices], train_data.loc[non_churned_indices_set[i]]])\n",
    "    )"
   ]
  },
  {
   "cell_type": "code",
   "execution_count": 9,
   "metadata": {},
   "outputs": [],
   "source": [
    "X_train_set = []\n",
    "y_train_set = []\n",
    "\n",
    "for i in range(scale_diff):\n",
    "    X_train_set.append(train_data_samples[i].copy())\n",
    "    y_train_set.append(X_train_set[i].pop('churned'))"
   ]
  },
  {
   "cell_type": "code",
   "execution_count": 10,
   "metadata": {},
   "outputs": [],
   "source": [
    "#learning\n",
    "\n",
    "from sklearn.neighbors import KNeighborsClassifier\n",
    "\n",
    "knn_set = []\n",
    "for i in range(scale_diff):\n",
    "    knn_set.append(KNeighborsClassifier(n_neighbors=5))\n",
    "    knn_set[i].fit(X_train_set[i], y_train_set[i])"
   ]
  },
  {
   "cell_type": "code",
   "execution_count": 11,
   "metadata": {},
   "outputs": [],
   "source": [
    "# predict\n",
    "\n",
    "y_pred_set = []\n",
    "for i in range(scale_diff):\n",
    "    y_pred_set.append(knn_set[i].predict(X_test))\n",
    "    \n",
    "total_y_pred = np.sum(y_pred_set, axis=0)"
   ]
  },
  {
   "cell_type": "code",
   "execution_count": 12,
   "metadata": {},
   "outputs": [],
   "source": [
    "# with np.nditer(total_y_pred, op_flags=['readwrite']) as it:\n",
    "#     for i in it:\n",
    "#         if i >= scale_diff - 1:\n",
    "#             i[...] = 1\n",
    "#         else:\n",
    "#             i[...] = 0.0\n",
    "\n",
    "total_y_pred_text = []\n",
    "\n",
    "for i in range(len(total_y_pred)): \n",
    "    if (total_y_pred[i] >= scale_diff):\n",
    "        total_y_pred_text.append('TRUE')\n",
    "    else:\n",
    "        total_y_pred_text.append('FALSE')"
   ]
  },
  {
   "cell_type": "code",
   "execution_count": 13,
   "metadata": {},
   "outputs": [],
   "source": [
    "test_result = pd.DataFrame(data=total_y_pred_text, columns=['churned'])\n",
    "\n",
    "test_result.to_csv(\"test-result.csv\", mode='w')"
   ]
  }
 ],
 "metadata": {
  "kernelspec": {
   "display_name": "Python 3",
   "language": "python",
   "name": "python3"
  },
  "language_info": {
   "codemirror_mode": {
    "name": "ipython",
    "version": 3
   },
   "file_extension": ".py",
   "mimetype": "text/x-python",
   "name": "python",
   "nbconvert_exporter": "python",
   "pygments_lexer": "ipython3",
   "version": "3.7.3"
  }
 },
 "nbformat": 4,
 "nbformat_minor": 2
}
